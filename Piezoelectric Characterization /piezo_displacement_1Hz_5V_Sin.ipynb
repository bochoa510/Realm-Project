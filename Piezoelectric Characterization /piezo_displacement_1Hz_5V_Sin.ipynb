{
 "cells": [
  {
   "cell_type": "code",
   "execution_count": null,
   "metadata": {},
   "outputs": [],
   "source": [
    "# Bryan Ochoa July 27 2023 bochoa@lbl.gov\n",
    "\n",
    "# characterization of piezoelectric displacement using\n",
    "# data gathered using smaract picoscale interferometer gui, pasting results to a .txt file\n",
    "# function generator producing a 1Hz Sin function, +5V peak to peak"
   ]
  }
 ],
 "metadata": {
  "language_info": {
   "name": "python"
  },
  "orig_nbformat": 4
 },
 "nbformat": 4,
 "nbformat_minor": 2
}

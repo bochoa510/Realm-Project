{
 "cells": [
  {
   "cell_type": "code",
   "execution_count": null,
   "metadata": {},
   "outputs": [],
   "source": [
    "import thorlabs_apt as apt\n",
    "import usb.core\n",
    "import usb.util\n",
    "import subprocess\n",
    "import time\n",
    "import threading\n",
    "import matplotlib.pyplot as plt\n",
    "from multiprocessing import Process\n",
    "import numpy as np\n",
    "from scipy.interpolate import griddata\n",
    "from scipy import signal\n",
    "from mpl_toolkits.mplot3d import Axes3D\n"
   ]
  },
  {
   "cell_type": "code",
   "execution_count": null,
   "metadata": {},
   "outputs": [],
   "source": [
    "l = apt.list_available_devices()\n",
    "print(l)"
   ]
  },
  {
   "cell_type": "code",
   "execution_count": null,
   "metadata": {},
   "outputs": [],
   "source": [
    "#define motors\n",
    "#motor = l([0][1])\n",
    "x = apt.Motor(l[3][1])\n",
    "y = apt.Motor(l[2][1])\n",
    "\n",
    "y.set_stage_axis_info(-2.0, 20.0, 1, 0.5)\n",
    "x.set_stage_axis_info(-2.0, 20.0, 1, 0.5)"
   ]
  },
  {
   "cell_type": "code",
   "execution_count": null,
   "metadata": {},
   "outputs": [],
   "source": [
    "exe_path = \"C:\\\\Users\\\\opticslab\\\\Documents\\\\picoFiles\\\\example\\\\smarACT\\\\x64\\\\Debug\\\\smarACT.exe\"\n",
    "\n",
    "def collect_data():\n",
    "    #try:\n",
    "   # exe_process = subprocess.run([exe_path],capture_output=True, text=True)\n",
    "    #print(\"call\")\n",
    "    exe_process = subprocess.Popen(exe_path, stdin=subprocess.PIPE, stdout=subprocess.PIPE, stderr=subprocess.PIPE, shell=True, )\n",
    "    output, error = exe_process.communicate()\n",
    "    d = output.decode()\n",
    "\n",
    "    return d\n",
    "\n",
    "   # print(output.decode())\n",
    "    #if(exe_process.returncode == 0 ):\n",
    "     #   n = exe_process.stdout.strip()\n",
    "    #print(n)\n",
    "\n",
    "    #print(\"running\")\n",
    "    #except subprocess.CalledProcessError as e:\n",
    "     #   print(f\"error: {e}\")\n"
   ]
  },
  {
   "cell_type": "code",
   "execution_count": null,
   "metadata": {},
   "outputs": [],
   "source": [
    "print(x.position)\n",
    "print(y.position)"
   ]
  },
  {
   "cell_type": "code",
   "execution_count": null,
   "metadata": {},
   "outputs": [],
   "source": [
    "x.position = 0\n",
    "y.position = 0"
   ]
  },
  {
   "cell_type": "code",
   "execution_count": null,
   "metadata": {},
   "outputs": [],
   "source": [
    "x_initial = 0   # mm\n",
    "y_initial = 0\n",
    "\n",
    "x.position = x_initial\n",
    "y.position = y_initial\n",
    "\n",
    "while(x.is_in_motion or y.is_in_motion ):\n",
    "    time.sleep\n",
    "\n",
    "\n",
    "scan_width = 6\n",
    "step_size = .25\n",
    "\n",
    "num_steps = int(scan_width / step_size)\n",
    "num_rows = int(scan_width / step_size)\n",
    "\n",
    "xp = []\n",
    "yp = []\n",
    "h= []\n",
    "\n",
    "print(\"begin scan\")\n",
    "xp.append(x.position)\n",
    "yp.append(y.position)\n",
    "d = collect_data()\n",
    "h.append(int(d.strip()))\n",
    "\n",
    "start = time.time()\n",
    "for row in range(num_rows):\n",
    "    if row % 2 == 0:\n",
    "        start_x = 0\n",
    "        end_x = scan_width\n",
    "        step_direction = 1\n",
    "    else:\n",
    "        start_x = scan_width\n",
    "        end_x = 0\n",
    "        step_direction = -1\n",
    "    x.move_to(start_x)\n",
    "    while(x.is_in_motion):\n",
    "        time.sleep\n",
    "    \n",
    "    for step in range(num_steps):\n",
    "        current_x = start_x + step_direction * step * step_size\n",
    "        x.move_to(current_x)\n",
    "        while(x.is_in_motion):\n",
    "            time.sleep\n",
    "        \n",
    "        d = collect_data()\n",
    "        print(\"x position: %1.10f\" % x.position, \"y position: %1.10f\" % y.position, \"height: %1.10f\" % (int(d.strip())*(10**-12)))\n",
    "        xp.append(x.position)\n",
    "        yp.append(y.position)\n",
    "        h.append(int(d.strip()))\n",
    "\n",
    "    y.move_to(( row+1) * step_size )\n",
    "    while(y.is_in_motion):\n",
    "        time.sleep\n",
    "\n",
    "\n",
    "print(\"scan complete, time elapsed [s]: \", time.time() - start)\n",
    "\n",
    "        \n",
    "\n"
   ]
  },
  {
   "cell_type": "code",
   "execution_count": null,
   "metadata": {},
   "outputs": [],
   "source": [
    "\n",
    "d = np.column_stack((xp,yp,h))\n",
    "#Change file name before saving \n",
    "np.savetxt(\"C:\\\\Users\\\\opticslab\\\\Documents\\\\picoFiles\\\\smaract_logo_scan_6x6mm.txt\",d,delimiter=\" \")"
   ]
  },
  {
   "cell_type": "code",
   "execution_count": null,
   "metadata": {},
   "outputs": [],
   "source": [
    "\n",
    "#graph of x-motor position\n",
    "fig,axs = plt.subplots(2, sharex=True)\n",
    "axs[0].plot(xp)\n",
    "axs[0].set(ylabel = 'X Position[mm]')\n",
    "\n",
    "axs[1].set(ylabel = 'Y Position[mm]',xlabel='Data Points')\n",
    "axs[1].plot(yp)\n",
    "plt.show()"
   ]
  },
  {
   "cell_type": "code",
   "execution_count": null,
   "metadata": {},
   "outputs": [],
   "source": [
    "plt.figure(figsize=(10,4))\n",
    "plt.title(\"Snake Scan Pattern Starting From (0,0)\")\n",
    "plt.scatter(xp,yp)\n",
    "plt.xlabel('x position [mm]')\n",
    "plt.ylabel('y position [mm]')\n",
    "plt.show()"
   ]
  },
  {
   "cell_type": "code",
   "execution_count": null,
   "metadata": {},
   "outputs": [],
   "source": [
    "# normalizing the height data and replotting \n",
    "h_detrended = signal.detrend(h)\n",
    "plt.figure(figsize=(10, 4))\n",
    "plt.title(\"Interferometer Data of Height in nanometers, Detrended and Raw\")\n",
    "plt.plot(h, label =\"raw\")\n",
    "plt.plot(h_detrended, label=\"detrended\")\n",
    "plt.xlabel('Data Point')\n",
    "plt.ylabel('height [m]')\n",
    "plt.legend(loc='lower left')\n",
    "\n",
    "\n",
    "plt.show()"
   ]
  },
  {
   "cell_type": "code",
   "execution_count": null,
   "metadata": {},
   "outputs": [],
   "source": [
    "#reconstruct surface using interpolatate\n",
    "from scipy import interpolate\n",
    "\n",
    "\n",
    "Nx = len(xp)\n",
    "Ny = len(yp)\n",
    "\n",
    "x_lin = np.linspace(min(xp), max(xp), Nx)\n",
    "y_lin = np.linspace(min(yp), max(yp), Ny)\n",
    "\n",
    "X, Y = np.meshgrid(x_lin,y_lin)\n",
    "\n",
    "WASH = griddata((xp,yp),h,(X,Y),method='nearest')"
   ]
  },
  {
   "cell_type": "code",
   "execution_count": null,
   "metadata": {},
   "outputs": [],
   "source": [
    "plt.imshow(WASH)\n",
    "plt.show()"
   ]
  },
  {
   "cell_type": "code",
   "execution_count": null,
   "metadata": {},
   "outputs": [],
   "source": [
    "X, Y = np.meshgrid(xp,yp)\n",
    "z = np.array(h_detrended)\n",
    "\n",
    "Z = griddata((xp,yp),h,(X,Y), method='cubic')\n",
    "fig = plt.figure(figsize=(10,10))\n",
    "plt.imshow(Z, extent=[min(xp),max(xp),min(yp),max(yp)])\n",
    "\n",
    "plt.show()\n"
   ]
  },
  {
   "cell_type": "code",
   "execution_count": null,
   "metadata": {},
   "outputs": [],
   "source": [
    "X, Y = np.meshgrid(xp,yp)\n",
    "z = np.array(h_detrended)\n",
    "\n",
    "Z = griddata((xp,yp),h_detrended,(X,Y), method='nearest')\n",
    "\n",
    "img = plt.imshow(Z, extent=[min(xp),max(xp),min(yp),max(yp)])\n",
    "plt.show()\n"
   ]
  },
  {
   "cell_type": "code",
   "execution_count": null,
   "metadata": {},
   "outputs": [],
   "source": []
  }
 ],
 "metadata": {
  "kernelspec": {
   "display_name": "base",
   "language": "python",
   "name": "python3"
  },
  "language_info": {
   "codemirror_mode": {
    "name": "ipython",
    "version": 3
   },
   "file_extension": ".py",
   "mimetype": "text/x-python",
   "name": "python",
   "nbconvert_exporter": "python",
   "pygments_lexer": "ipython3",
   "version": "3.9.13"
  },
  "orig_nbformat": 4
 },
 "nbformat": 4,
 "nbformat_minor": 2
}
